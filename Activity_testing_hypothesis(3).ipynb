{
 "cells": [
  {
   "cell_type": "code",
   "execution_count": 1,
   "id": "d93b5ee7",
   "metadata": {},
   "outputs": [],
   "source": [
    "import numpy as np\n",
    "import pandas as pd\n",
    "import seaborn as sns\n",
    "import matplotlib.pyplot as plt\n",
    "import scipy.stats as stat\n",
    "import warnings\n",
    "warnings.filterwarnings('ignore')"
   ]
  },
  {
   "cell_type": "code",
   "execution_count": 2,
   "id": "e810324c",
   "metadata": {},
   "outputs": [],
   "source": [
    "df1=pd.read_csv('C:/Users/HP/Downloads/Week_8_Q&A_dataset - Sheet1.csv')"
   ]
  },
  {
   "cell_type": "code",
   "execution_count": 3,
   "id": "899b8018",
   "metadata": {},
   "outputs": [
    {
     "data": {
      "text/html": [
       "<div>\n",
       "<style scoped>\n",
       "    .dataframe tbody tr th:only-of-type {\n",
       "        vertical-align: middle;\n",
       "    }\n",
       "\n",
       "    .dataframe tbody tr th {\n",
       "        vertical-align: top;\n",
       "    }\n",
       "\n",
       "    .dataframe thead th {\n",
       "        text-align: right;\n",
       "    }\n",
       "</style>\n",
       "<table border=\"1\" class=\"dataframe\">\n",
       "  <thead>\n",
       "    <tr style=\"text-align: right;\">\n",
       "      <th></th>\n",
       "      <th>Gender</th>\n",
       "      <th>Test preparation</th>\n",
       "      <th>Total Marks</th>\n",
       "    </tr>\n",
       "  </thead>\n",
       "  <tbody>\n",
       "    <tr>\n",
       "      <th>0</th>\n",
       "      <td>male</td>\n",
       "      <td>none</td>\n",
       "      <td>14</td>\n",
       "    </tr>\n",
       "    <tr>\n",
       "      <th>1</th>\n",
       "      <td>female</td>\n",
       "      <td>none</td>\n",
       "      <td>28</td>\n",
       "    </tr>\n",
       "    <tr>\n",
       "      <th>2</th>\n",
       "      <td>female</td>\n",
       "      <td>none</td>\n",
       "      <td>18</td>\n",
       "    </tr>\n",
       "    <tr>\n",
       "      <th>3</th>\n",
       "      <td>female</td>\n",
       "      <td>none</td>\n",
       "      <td>48</td>\n",
       "    </tr>\n",
       "    <tr>\n",
       "      <th>4</th>\n",
       "      <td>female</td>\n",
       "      <td>none</td>\n",
       "      <td>21</td>\n",
       "    </tr>\n",
       "  </tbody>\n",
       "</table>\n",
       "</div>"
      ],
      "text/plain": [
       "   Gender Test preparation  Total Marks\n",
       "0    male             none           14\n",
       "1  female             none           28\n",
       "2  female             none           18\n",
       "3  female             none           48\n",
       "4  female             none           21"
      ]
     },
     "execution_count": 3,
     "metadata": {},
     "output_type": "execute_result"
    }
   ],
   "source": [
    "df1.head()"
   ]
  },
  {
   "cell_type": "code",
   "execution_count": 4,
   "id": "dc8f53d9",
   "metadata": {},
   "outputs": [
    {
     "data": {
      "text/plain": [
       "(28, 3)"
      ]
     },
     "execution_count": 4,
     "metadata": {},
     "output_type": "execute_result"
    }
   ],
   "source": [
    "df1.shape"
   ]
  },
  {
   "cell_type": "code",
   "execution_count": 5,
   "id": "d2b90b35",
   "metadata": {},
   "outputs": [
    {
     "name": "stdout",
     "output_type": "stream",
     "text": [
      "<class 'pandas.core.frame.DataFrame'>\n",
      "RangeIndex: 28 entries, 0 to 27\n",
      "Data columns (total 3 columns):\n",
      " #   Column            Non-Null Count  Dtype \n",
      "---  ------            --------------  ----- \n",
      " 0   Gender            28 non-null     object\n",
      " 1   Test preparation  28 non-null     object\n",
      " 2   Total Marks       28 non-null     int64 \n",
      "dtypes: int64(1), object(2)\n",
      "memory usage: 800.0+ bytes\n"
     ]
    }
   ],
   "source": [
    "df1.info()"
   ]
  },
  {
   "cell_type": "markdown",
   "id": "9dd08ec1",
   "metadata": {},
   "source": [
    "# 1. Descriptive Analysis"
   ]
  },
  {
   "cell_type": "markdown",
   "id": "723968fb",
   "metadata": {},
   "source": [
    "### Count"
   ]
  },
  {
   "cell_type": "code",
   "execution_count": 6,
   "id": "6a326ff5",
   "metadata": {},
   "outputs": [
    {
     "data": {
      "text/plain": [
       "Gender\n",
       "female    16\n",
       "male      12\n",
       "dtype: int64"
      ]
     },
     "execution_count": 6,
     "metadata": {},
     "output_type": "execute_result"
    }
   ],
   "source": [
    "# gender\n",
    "df1.value_counts('Gender')"
   ]
  },
  {
   "cell_type": "code",
   "execution_count": 7,
   "id": "f4740079",
   "metadata": {},
   "outputs": [
    {
     "data": {
      "text/plain": [
       "Test preparation\n",
       "none         21\n",
       "completed     7\n",
       "dtype: int64"
      ]
     },
     "execution_count": 7,
     "metadata": {},
     "output_type": "execute_result"
    }
   ],
   "source": [
    "# test completion\n",
    "df1.value_counts('Test preparation')"
   ]
  },
  {
   "cell_type": "markdown",
   "id": "629f0573",
   "metadata": {},
   "source": [
    "### Measures of Central Tendancy"
   ]
  },
  {
   "cell_type": "code",
   "execution_count": 8,
   "id": "f3ac76cf",
   "metadata": {},
   "outputs": [
    {
     "data": {
      "text/plain": [
       "32.32142857142857"
      ]
     },
     "execution_count": 8,
     "metadata": {},
     "output_type": "execute_result"
    }
   ],
   "source": [
    "# mean mark\n",
    "df1['Total Marks'].mean()"
   ]
  },
  {
   "cell_type": "code",
   "execution_count": 9,
   "id": "73fd104d",
   "metadata": {},
   "outputs": [
    {
     "data": {
      "text/plain": [
       "Gender\n",
       "female    33.750000\n",
       "male      30.416667\n",
       "Name: Total Marks, dtype: float64"
      ]
     },
     "execution_count": 9,
     "metadata": {},
     "output_type": "execute_result"
    }
   ],
   "source": [
    "# mean mark based on gender\n",
    "df1.groupby('Gender')['Total Marks'].mean()"
   ]
  },
  {
   "cell_type": "code",
   "execution_count": 10,
   "id": "baae2241",
   "metadata": {},
   "outputs": [
    {
     "data": {
      "text/plain": [
       "Test preparation\n",
       "completed    44.571429\n",
       "none         28.238095\n",
       "Name: Total Marks, dtype: float64"
      ]
     },
     "execution_count": 10,
     "metadata": {},
     "output_type": "execute_result"
    }
   ],
   "source": [
    "# mean mark based on the test completion\n",
    "df1.groupby('Test preparation')['Total Marks'].mean()"
   ]
  },
  {
   "cell_type": "markdown",
   "id": "b8262a35",
   "metadata": {},
   "source": [
    "Clearly, on an average, those students who completed the test preparation has scored much higher than those who didn't complete the course"
   ]
  },
  {
   "cell_type": "markdown",
   "id": "25f0f10d",
   "metadata": {},
   "source": [
    "### Measures of Dispersion"
   ]
  },
  {
   "cell_type": "code",
   "execution_count": 11,
   "id": "6e25f7a9",
   "metadata": {},
   "outputs": [
    {
     "data": {
      "text/plain": [
       "155.11507936507937"
      ]
     },
     "execution_count": 11,
     "metadata": {},
     "output_type": "execute_result"
    }
   ],
   "source": [
    "# variance\n",
    "df1['Total Marks'].var()"
   ]
  },
  {
   "cell_type": "code",
   "execution_count": 12,
   "id": "2e9bf11e",
   "metadata": {},
   "outputs": [
    {
     "data": {
      "text/plain": [
       "Gender\n",
       "female    165.533333\n",
       "male      148.083333\n",
       "Name: Total Marks, dtype: float64"
      ]
     },
     "execution_count": 12,
     "metadata": {},
     "output_type": "execute_result"
    }
   ],
   "source": [
    "# variance based on gender\n",
    "df1.groupby('Gender')['Total Marks'].var()"
   ]
  },
  {
   "cell_type": "code",
   "execution_count": 13,
   "id": "6225da91",
   "metadata": {},
   "outputs": [
    {
     "data": {
      "text/plain": [
       "Test preparation\n",
       "completed     11.285714\n",
       "none         135.990476\n",
       "Name: Total Marks, dtype: float64"
      ]
     },
     "execution_count": 13,
     "metadata": {},
     "output_type": "execute_result"
    }
   ],
   "source": [
    "#variance based on test preparartion\n",
    "df1.groupby('Test preparation')['Total Marks'].var()"
   ]
  },
  {
   "cell_type": "markdown",
   "id": "f8b3d0a2",
   "metadata": {},
   "source": [
    " The marks scored by the students who completed the test preparation has much smaller compared to the others, therefore their marks are more consistent."
   ]
  },
  {
   "cell_type": "code",
   "execution_count": 14,
   "id": "0aa5505c",
   "metadata": {},
   "outputs": [
    {
     "name": "stdout",
     "output_type": "stream",
     "text": [
      "maximum mark scored is:  50  and minimum mark is:  12\n",
      "the range of total marks is:  38\n"
     ]
    }
   ],
   "source": [
    "# range\n",
    "max_mark=df1['Total Marks'].max()\n",
    "min_mark=df1['Total Marks'].min()\n",
    "range_mark=max_mark-min_mark\n",
    "print('maximum mark scored is: ',max_mark,' and minimum mark is: ',min_mark)\n",
    "print('the range of total marks is: ',range_mark)"
   ]
  },
  {
   "cell_type": "markdown",
   "id": "20e2680b",
   "metadata": {},
   "source": [
    "### Measures of Position"
   ]
  },
  {
   "cell_type": "code",
   "execution_count": 15,
   "id": "e1865b93",
   "metadata": {},
   "outputs": [
    {
     "name": "stdout",
     "output_type": "stream",
     "text": [
      "25% of the students scored mark below  22.5\n",
      "Top 25% of the students scored above  43.25\n"
     ]
    }
   ],
   "source": [
    "q1,q2,q3=np.quantile(df1['Total Marks'],(.25,.5,.75))\n",
    "print('25% of the students scored mark below ',q1)\n",
    "print('Top 25% of the students scored above ',q3)"
   ]
  },
  {
   "cell_type": "markdown",
   "id": "506ee829",
   "metadata": {},
   "source": [
    "# 2. Checking equality of scores for male and female students"
   ]
  },
  {
   "cell_type": "markdown",
   "id": "fcd5afb8",
   "metadata": {},
   "source": [
    "H0: The marks scored by male And female students are equal, i.e, H0: mu1 Equal to mu2 \n",
    "\n",
    "H1: The marks scored by male And female students are significantly different, i.e, H1: mu1 Notequal to mu2\n",
    "\n",
    "sig.level Is 0.05"
   ]
  },
  {
   "cell_type": "code",
   "execution_count": 16,
   "id": "018d0727",
   "metadata": {},
   "outputs": [],
   "source": [
    "df_male=df1[(df1['Gender']=='male')] #data of male students"
   ]
  },
  {
   "cell_type": "code",
   "execution_count": 17,
   "id": "eda9fc3d",
   "metadata": {},
   "outputs": [],
   "source": [
    "df_female=df1[(df1['Gender']=='female')] #data of female students"
   ]
  },
  {
   "cell_type": "code",
   "execution_count": 18,
   "id": "a10f4ecc",
   "metadata": {},
   "outputs": [
    {
     "data": {
      "text/plain": [
       "Ttest_indResult(statistic=-0.6940885268848668, pvalue=0.4937822317960763)"
      ]
     },
     "execution_count": 18,
     "metadata": {},
     "output_type": "execute_result"
    }
   ],
   "source": [
    "stat.ttest_ind(df_male['Total Marks'],df_female['Total Marks'],alternative='two-sided')"
   ]
  },
  {
   "cell_type": "markdown",
   "id": "4fb06840",
   "metadata": {},
   "source": [
    "The pvalue=0.4937822317960763 is greater than significance level=.05\n",
    "\n",
    "Hence we cannot reject the null hypothesis.\n",
    "\n",
    "The marks scored by male and female students didnot differ significantly"
   ]
  },
  {
   "cell_type": "markdown",
   "id": "db616900",
   "metadata": {},
   "source": [
    "# 3. Effect of test preparaion"
   ]
  },
  {
   "cell_type": "markdown",
   "id": "053f7661",
   "metadata": {},
   "source": [
    " H0: Marks, scored by the students who completed test preparation and students who didn't complete, are equal\n",
    " i.e, H0: mu1=mu2\n",
    "\n",
    " H1: Students who completed test preparation, scored more marks than the others.\n",
    " i.e, H1: mu1>mu2\n",
    "\n",
    " sig.level=.05"
   ]
  },
  {
   "cell_type": "code",
   "execution_count": 19,
   "id": "d4f44d81",
   "metadata": {},
   "outputs": [],
   "source": [
    "df_completed=df1[(df1['Test preparation']=='completed')]"
   ]
  },
  {
   "cell_type": "code",
   "execution_count": 20,
   "id": "e261bbfb",
   "metadata": {},
   "outputs": [],
   "source": [
    "df_uncomplete=df1[(df1['Test preparation']=='none')]"
   ]
  },
  {
   "cell_type": "code",
   "execution_count": 21,
   "id": "732f82c6",
   "metadata": {},
   "outputs": [
    {
     "data": {
      "text/plain": [
       "Ttest_indResult(statistic=3.6143637527769217, pvalue=0.0006335646228660053)"
      ]
     },
     "execution_count": 21,
     "metadata": {},
     "output_type": "execute_result"
    }
   ],
   "source": [
    "stat.ttest_ind(df_completed['Total Marks'],df_uncomplete['Total Marks'],alternative='greater')"
   ]
  },
  {
   "cell_type": "markdown",
   "id": "766c3295",
   "metadata": {},
   "source": [
    " The pvalue 0.0006335646228660053<.05\n",
    " \n",
    " Hence we reject our null hypothesis.\n",
    " \n",
    " The test preparation was helpful to students"
   ]
  },
  {
   "cell_type": "code",
   "execution_count": null,
   "id": "8d8a76e2",
   "metadata": {},
   "outputs": [],
   "source": []
  }
 ],
 "metadata": {
  "kernelspec": {
   "display_name": "Python 3",
   "language": "python",
   "name": "python3"
  },
  "language_info": {
   "codemirror_mode": {
    "name": "ipython",
    "version": 3
   },
   "file_extension": ".py",
   "mimetype": "text/x-python",
   "name": "python",
   "nbconvert_exporter": "python",
   "pygments_lexer": "ipython3",
   "version": "3.8.8"
  }
 },
 "nbformat": 4,
 "nbformat_minor": 5
}
